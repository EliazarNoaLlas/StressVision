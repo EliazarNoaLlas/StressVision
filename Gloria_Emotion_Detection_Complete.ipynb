{
 "cells": [
  {
   "cell_type": "code",
   "execution_count": null,
   "id": "initial_id",
   "metadata": {
    "collapsed": true
   },
   "outputs": [],
   "source": [
    "# ==================================================================================\n",
    "# 🧠 SISTEMA DE DETECCIÓN DE EMOCIONES FACIALES - GLORIA S.A.\n",
    "# Notebook Completo para Google Colab\n",
    "# Arquitectura: Transfer Learning + Fine-Tuning + Optimización Edge\n",
    "# ==================================================================================\n",
    "\n",
    "# ==================================================================================\n",
    "# CELDA 1: INSTALACIÓN DE DEPENDENCIAS Y CONFIGURACIÓN INICIAL\n",
    "# ==================================================================================\n",
    "\"\"\"\n",
    "📦 Instalación de todas las librerías necesarias para el sistema\n",
    "\"\"\"\n",
    "\n",
    "!pip install -q tensorflow==2.17.0\n",
    "!pip install -q opencv-python-headless\n",
    "!pip install -q mediapipe\n",
    "!pip install -q mtcnn\n",
    "!pip install -q keras-facenet\n",
    "!pip install -q pillow\n",
    "!pip install -q scikit-learn\n",
    "!pip install -q matplotlib\n",
    "!pip install -q seaborn\n",
    "!pip install -q pandas\n",
    "!pip install -q numpy\n",
    "!pip install -q albumentations\n",
    "!pip install -q imutils\n",
    "!pip install -q deepface\n",
    "!pip install -q fer\n",
    "!pip install -q tqdm\n",
    "\n",
    "# Verificar instalación de TensorFlow\n",
    "import tensorflow as tf\n",
    "print(f\"✅ TensorFlow Version: {tf.__version__}\")\n",
    "print(f\"✅ GPU Available: {tf.config.list_physical_devices('GPU')}\")"
   ]
  },
  {
   "metadata": {
    "ExecuteTime": {
     "end_time": "2025-10-22T18:27:34.062681Z",
     "start_time": "2025-10-22T18:27:28.597953Z"
    }
   },
   "cell_type": "code",
   "source": [
    "# ==================================================================================\n",
    "# CELDA 2: IMPORTAR LIBRERÍAS Y CONFIGURACIONES GLOBALES\n",
    "# ==================================================================================\n",
    "\"\"\"\n",
    "📚 Importación de módulos y configuración del entorno\n",
    "\"\"\"\n",
    "\n",
    "import os\n",
    "import cv2\n",
    "import numpy as np\n",
    "import pandas as pd\n",
    "import matplotlib.pyplot as plt\n",
    "import seaborn as sns\n",
    "from pathlib import Path\n",
    "from tqdm.notebook import tqdm\n",
    "import json\n",
    "from datetime import datetime\n",
    "\n",
    "# TensorFlow y Keras\n",
    "import tensorflow as tf\n",
    "from tensorflow import keras\n",
    "from tensorflow.keras import layers, models\n",
    "from tensorflow.keras.applications import MobileNetV3Large, EfficientNetB0\n",
    "from tensorflow.keras.preprocessing.image import ImageDataGenerator\n",
    "from tensorflow.keras.callbacks import EarlyStopping, ModelCheckpoint, ReduceLROnPlateau\n",
    "\n",
    "# Detección facial\n",
    "import mediapipe as mp\n",
    "from mtcnn import MTCNN\n",
    "\n",
    "# Métricas y visualización\n",
    "from sklearn.metrics import classification_report, confusion_matrix, f1_score\n",
    "from sklearn.model_selection import train_test_split\n",
    "\n",
    "# Configuración de estilo\n",
    "plt.style.use('seaborn-v0_8-darkgrid')\n",
    "sns.set_palette(\"husl\")\n",
    "\n",
    "# Configuración de advertencias\n",
    "import warnings\n",
    "warnings.filterwarnings('ignore')\n",
    "\n",
    "print(\"✅ Todas las librerías importadas correctamente\")"
   ],
   "id": "e66c8121753a095c",
   "outputs": [
    {
     "ename": "ImportError",
     "evalue": "cannot import name 'keras' from 'tensorflow' (unknown location)",
     "output_type": "error",
     "traceback": [
      "\u001B[31m---------------------------------------------------------------------------\u001B[39m",
      "\u001B[31mImportError\u001B[39m                               Traceback (most recent call last)",
      "\u001B[36mCell\u001B[39m\u001B[36m \u001B[39m\u001B[32mIn[4]\u001B[39m\u001B[32m, line 21\u001B[39m\n\u001B[32m     19\u001B[39m \u001B[38;5;66;03m# TensorFlow y Keras\u001B[39;00m\n\u001B[32m     20\u001B[39m \u001B[38;5;28;01mimport\u001B[39;00m\u001B[38;5;250m \u001B[39m\u001B[34;01mtensorflow\u001B[39;00m\u001B[38;5;250m \u001B[39m\u001B[38;5;28;01mas\u001B[39;00m\u001B[38;5;250m \u001B[39m\u001B[34;01mtf\u001B[39;00m\n\u001B[32m---> \u001B[39m\u001B[32m21\u001B[39m \u001B[38;5;28;01mfrom\u001B[39;00m\u001B[38;5;250m \u001B[39m\u001B[34;01mtensorflow\u001B[39;00m\u001B[38;5;250m \u001B[39m\u001B[38;5;28;01mimport\u001B[39;00m keras\n\u001B[32m     22\u001B[39m \u001B[38;5;28;01mfrom\u001B[39;00m\u001B[38;5;250m \u001B[39m\u001B[34;01mtensorflow\u001B[39;00m\u001B[34;01m.\u001B[39;00m\u001B[34;01mkeras\u001B[39;00m\u001B[38;5;250m \u001B[39m\u001B[38;5;28;01mimport\u001B[39;00m layers, models\n\u001B[32m     23\u001B[39m \u001B[38;5;28;01mfrom\u001B[39;00m\u001B[38;5;250m \u001B[39m\u001B[34;01mtensorflow\u001B[39;00m\u001B[34;01m.\u001B[39;00m\u001B[34;01mkeras\u001B[39;00m\u001B[34;01m.\u001B[39;00m\u001B[34;01mapplications\u001B[39;00m\u001B[38;5;250m \u001B[39m\u001B[38;5;28;01mimport\u001B[39;00m MobileNetV3Large, EfficientNetB0\n",
      "\u001B[31mImportError\u001B[39m: cannot import name 'keras' from 'tensorflow' (unknown location)"
     ]
    }
   ],
   "execution_count": 4
  }
 ],
 "metadata": {
  "kernelspec": {
   "display_name": "Python 3",
   "language": "python",
   "name": "python3"
  },
  "language_info": {
   "codemirror_mode": {
    "name": "ipython",
    "version": 2
   },
   "file_extension": ".py",
   "mimetype": "text/x-python",
   "name": "python",
   "nbconvert_exporter": "python",
   "pygments_lexer": "ipython2",
   "version": "2.7.6"
  }
 },
 "nbformat": 4,
 "nbformat_minor": 5
}
